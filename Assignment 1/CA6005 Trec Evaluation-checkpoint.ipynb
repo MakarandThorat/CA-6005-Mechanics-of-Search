{
 "cells": [
  {
   "cell_type": "code",
   "execution_count": 6,
   "metadata": {},
   "outputs": [],
   "source": [
    "import trectools"
   ]
  },
  {
   "cell_type": "code",
   "execution_count": 36,
   "metadata": {},
   "outputs": [],
   "source": [
    "#defining paths for Qrels and results file\n",
    "qrels_path = \"./cranqrel.trec.txt\"\n",
    "results_path = \"./output.txt\"\n",
    "\n",
    "#making qrels and run objects\n",
    "qrels = trectools.TrecQrel(qrels_path)\n",
    "results = trectools.TrecRun(results_path)\n",
    "\n",
    "#making trec eval object and getting scores\n",
    "te = trectools.TrecEval(results, qrels)\n",
    "map_score = te.get_map()\n",
    "precision = te.get_precision(depth=5)\n",
    "ndcg_score = te.get_ndcg()"
   ]
  },
  {
   "cell_type": "code",
   "execution_count": 37,
   "metadata": {},
   "outputs": [
    {
     "name": "stdout",
     "output_type": "stream",
     "text": [
      "MAP: 0.00571\n",
      "P@5: 0.00711\n",
      "NDCG: 0.02516\n"
     ]
    }
   ],
   "source": [
    "print(\"MAP:\", round(map_score,5))\n",
    "print(\"P@5:\", round(precision,5))\n",
    "print(\"NDCG:\", round(ndcg_score,5))"
   ]
  }
 ],
 "metadata": {
  "kernelspec": {
   "display_name": "Python 3",
   "language": "python",
   "name": "python3"
  },
  "language_info": {
   "codemirror_mode": {
    "name": "ipython",
    "version": 3
   },
   "file_extension": ".py",
   "mimetype": "text/x-python",
   "name": "python",
   "nbconvert_exporter": "python",
   "pygments_lexer": "ipython3",
   "version": "3.8.5"
  }
 },
 "nbformat": 4,
 "nbformat_minor": 4
}
